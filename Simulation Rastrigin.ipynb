{
 "cells": [
  {
   "cell_type": "code",
   "execution_count": 3,
   "id": "0d50f6fa-c703-4a8e-a8da-dd2af11ac192",
   "metadata": {
    "tags": []
   },
   "outputs": [],
   "source": [
    "import numpy as np\n",
    "import matplotlib.pyplot as plt"
   ]
  },
  {
   "cell_type": "code",
   "execution_count": 27,
   "id": "5cf38a59-2d8b-43f9-a422-2b8638abdfad",
   "metadata": {
    "tags": []
   },
   "outputs": [],
   "source": [
    "def plot_evolution(best_fit, title):\n",
    "    plt.plot(best_fit) \n",
    "    plt.title(title)\n",
    "    plt.ylabel('Fitness')\n",
    "    plt.xlabel('Generation')    \n",
    "    plt.show()"
   ]
  },
  {
   "cell_type": "markdown",
   "id": "7d09e386-0e84-4eee-ae24-42b452f94f06",
   "metadata": {},
   "source": [
    "# Rastrigin function\n",
    "(https://en.wikipedia.org/wiki/Rastrigin_function)\n",
    "\n",
    "In mathematical optimization, the Rastrigin function is a non-convex function used as a performance test problem for optimization algorithms due to a large amount of local minima.\n",
    "\n",
    "f(x) = A * d + sum(x_i^2 - A * cos(2 * pi * x_i))\n",
    "\n",
    "\n",
    "PSO based of https://induraj2020.medium.com/implementing-particle-swarm-optimization-in-python-c59278bc5846\n",
    "GA based of ChatGPT"
   ]
  },
  {
   "cell_type": "markdown",
   "id": "229f80e5-8ac0-48df-9791-749b20b5e3f1",
   "metadata": {},
   "source": [
    "# GA"
   ]
  },
  {
   "cell_type": "code",
   "execution_count": 29,
   "id": "f6e05118-9de0-4e05-a206-3df5a50f1763",
   "metadata": {
    "tags": []
   },
   "outputs": [],
   "source": [
    "\"\"\"\n",
    "Class for genetic algorithm\n",
    "Args:\n",
    "    pop_size: number of individuals in population\n",
    "    dimensions: number of dimensions for Rastringin problem\n",
    "    generations: number of max generations to run\n",
    "    mutation_rate: probability of mutation to occour\n",
    "\"\"\" \n",
    "class GA:    \n",
    "    def __init__(self, pop_size, dimensions, generations,mutation_rate = 0.1):\n",
    "        self.pop_size = pop_size\n",
    "        self.dimensions = dimensions\n",
    "        self.generations = generations\n",
    "        self.mutation_rate = mutation_rate\n",
    "        self.population = self.initialize_population()\n",
    "    \n",
    "    # Definition of Rastringin Function\n",
    "    def rastrigin_function(self, x):\n",
    "        A = 10\n",
    "        return A * len(x) + sum([(np.power(xi, 2) - A * np.cos(2 * np.pi * xi)) for xi in x])\n",
    "    \n",
    "    # Initialize first population at random \n",
    "    def initialize_population(self, x_min=-5.12, x_max=5.12):\n",
    "        return [np.random.uniform(x_min, x_max, self.dimensions) for _ in range(self.pop_size)]\n",
    "    \n",
    "    # Tournament selection of parents\n",
    "    def tournament_selection(self, fitness_values, tournament_size=3):\n",
    "        selected = []\n",
    "        for _ in range(2):  # Select 2 parents\n",
    "            tournament_indices = np.random.choice(len(self.population), tournament_size, replace=False)\n",
    "            tournament_fitness = [fitness_values[i] for i in tournament_indices]\n",
    "            selected.append(self.population[tournament_indices[np.argmin(tournament_fitness)]])\n",
    "        return selected\n",
    "    \n",
    "    # Perform crossover between two individuals\n",
    "    def crossover(self, parent1, parent2):\n",
    "        crossover_point = np.random.randint(1, len(parent1))\n",
    "        child = np.concatenate((parent1[:crossover_point], parent2[crossover_point:]), axis=None)\n",
    "        return child\n",
    "    \n",
    "    # Mutate child based on mutation rate\n",
    "    def mutation(self, child):\n",
    "        for i in range(len(child)):\n",
    "            if np.random.rand() < self.mutation_rate:\n",
    "                child[i] += np.random.uniform(-0.5, 0.5)  # Small random change\n",
    "        return child\n",
    "    \n",
    "    # Run the algorithm\n",
    "    def run_genetic_algorithm(self):\n",
    "        best_solution = None\n",
    "        best_fitness = float('inf')\n",
    "        top_fitness = []\n",
    "        \n",
    "        for _ in range(self.generations):\n",
    "            fitness_values = [self.rastrigin_function(ind) for ind in self.population]\n",
    "            top_fitness.append(best_fitness)\n",
    "            \n",
    "            for i in range(self.pop_size // 2):\n",
    "                parent1, parent2 = self.tournament_selection(fitness_values)\n",
    "                child = self.crossover(parent1, parent2)\n",
    "                child = self.mutation(child)\n",
    "                self.population[i] = child\n",
    "\n",
    "            best_idx = np.argmin(fitness_values)\n",
    "            if fitness_values[best_idx] < best_fitness:\n",
    "                best_solution = self.population[best_idx]\n",
    "                best_fitness = fitness_values[best_idx]\n",
    "\n",
    "        return top_fitness, best_solution, best_fitness\n"
   ]
  },
  {
   "cell_type": "code",
   "execution_count": 43,
   "id": "35e34032-d861-48f0-91a0-82458e5f0451",
   "metadata": {
    "tags": []
   },
   "outputs": [
    {
     "name": "stdout",
     "output_type": "stream",
     "text": [
      "Best solution: [-3.92831436  2.19940556 -1.84856348  0.36465636 -0.06199456]\n",
      "Best fitness: 5.789396784460756\n"
     ]
    }
   ],
   "source": [
    "# GA results\n",
    "ga = GA(pop_size=100, dimensions=5, generations=1000)\n",
    "ga_top_fitness, ga_best_solution, ga_best_fitness = ga.run_genetic_algorithm()\n",
    "print(\"Best solution:\", ga_best_solution)\n",
    "print(\"Best fitness:\", ga_best_fitness)"
   ]
  },
  {
   "cell_type": "code",
   "execution_count": 40,
   "id": "ff03e0c2-0d48-4047-a51f-864728c7a640",
   "metadata": {
    "tags": []
   },
   "outputs": [
    {
     "data": {
      "image/png": "[encoded data removed]",
      "text/plain": [
       "<Figure size 640x480 with 1 Axes>"
      ]
     },
     "metadata": {},
     "output_type": "display_data"
    }
   ],
   "source": [
    "plot_evolution(ga_top_fitness, \"GA best values\")"
   ]
  },
  {
   "cell_type": "markdown",
   "id": "314e27b7-f3cd-4939-960d-46465b70ddcd",
   "metadata": {},
   "source": [
    "# PSO"
   ]
  },
  {
   "cell_type": "code",
   "execution_count": 35,
   "id": "2eb2e380-5fb7-419c-ab82-e34c74864b1d",
   "metadata": {
    "tags": []
   },
   "outputs": [],
   "source": [
    "\"\"\"\n",
    "Class for Particle Swarm Optimization\n",
    "Args:\n",
    "    pop_size: number of particles in population\n",
    "    dimensions: number of dimensions for Rastringin problem\n",
    "    generations: number of max generations to run\n",
    "    w:\n",
    "    c1:\n",
    "    c2:\n",
    "\"\"\" \n",
    "class PSO:\n",
    "    def __init__(self, pop_size=30, dimensions=2, generations=100, w=0.5, c1=1, c2=2):\n",
    "        self.dim = dimensions\n",
    "        self.num_particles = pop_size\n",
    "        self.max_iter = generations\n",
    "        self.w = w\n",
    "        self.c1 = c1\n",
    "        self.c2 = c2\n",
    "        \n",
    "    # Definition of Rastringin Function\n",
    "    def rastrigin_function(self, x):\n",
    "        A = 10\n",
    "        return A * len(x) + sum([(np.power(xi, 2) - A * np.cos(2 * np.pi * xi)) for xi in x])\n",
    "    \n",
    "    # Execution of algorithm\n",
    "    def pso_algorithm(self):\n",
    "        particles = np.random.uniform(-5.12, 5.12, (self.num_particles, self.dim))\n",
    "        velocities = np.zeros((self.num_particles, self.dim))\n",
    "        top_fitness = []\n",
    "        \n",
    "        best_positions = np.copy(particles)\n",
    "        best_fitness = np.array([self.rastrigin_function(p) for p in particles])\n",
    "        swarm_best_position = best_positions[np.argmin(best_fitness)]\n",
    "        swarm_best_fitness = np.min(best_fitness)\n",
    "\n",
    "        for i in range(self.max_iter):\n",
    "            top_fitness.append(swarm_best_fitness)\n",
    "            r1 = np.random.uniform(0, 1, (self.num_particles, self.dim))\n",
    "            r2 = np.random.uniform(0, 1, (self.num_particles, self.dim))\n",
    "            velocities = self.w * velocities + self.c1 * r1 * (best_positions - particles) + self.c2 * r2 * (\n",
    "                        swarm_best_position - particles)\n",
    "            particles += velocities\n",
    "\n",
    "            fitness_values = np.array([self.rastrigin_function(p) for p in particles])\n",
    "\n",
    "            improved_indices = np.where(fitness_values < best_fitness)\n",
    "            best_positions[improved_indices] = particles[improved_indices]\n",
    "            best_fitness[improved_indices] = fitness_values[improved_indices]\n",
    "            if np.min(fitness_values) < swarm_best_fitness:\n",
    "                swarm_best_position = particles[np.argmin(fitness_values)]\n",
    "                swarm_best_fitness = np.min(fitness_values)\n",
    "\n",
    "        return top_fitness, swarm_best_position, swarm_best_fitness\n",
    "\n",
    "\n"
   ]
  },
  {
   "cell_type": "code",
   "execution_count": 53,
   "id": "27cca502-6aec-437b-9b41-9cae8c98b35b",
   "metadata": {
    "tags": []
   },
   "outputs": [
    {
     "name": "stdout",
     "output_type": "stream",
     "text": [
      "Best solution: [ 0.00020398 -0.01216151 -0.00048606 -0.00912862  0.00043808]\n",
      "Best fitness: 0.04594947901779989\n"
     ]
    }
   ],
   "source": [
    "# PSO results\n",
    "pso = PSO(dim=5, num_particles=20, max_iter=100)\n",
    "pso_top_fitness, pso_best_solution, pso_best_fitness = pso.pso_algorithm()\n",
    "print(\"Best solution:\", pso_best_solution)\n",
    "print(\"Best fitness:\", pso_best_fitness)"
   ]
  },
  {
   "cell_type": "code",
   "execution_count": 54,
   "id": "bf939e15-4697-4140-816a-3147c57a73e2",
   "metadata": {
    "tags": []
   },
   "outputs": [
    {
     "data": {
      "image/png": "[encoded data removed]",
      "text/plain": [
       "<Figure size 640x480 with 1 Axes>"
      ]
     },
     "metadata": {},
     "output_type": "display_data"
    }
   ],
   "source": [
    "plot_evolution(pso_top_fitness, \"PSO best values\")"
   ]
  },
  {
   "cell_type": "markdown",
   "id": "2c907f49-1d21-4fc9-be91-85f56d3f06af",
   "metadata": {},
   "source": [
    "# Hybrid approaches\n",
    "Ideas:\n",
    "- Use GA to find best set of paremeters for PSO\n"
   ]
  },
  {
   "cell_type": "code",
   "execution_count": null,
   "id": "1292997e-f2a3-4983-bf92-3b9ff28c8fda",
   "metadata": {},
   "outputs": [],
   "source": []
  }
 ],
 "metadata": {
  "kernelspec": {
   "display_name": "Python 3 (ipykernel)",
   "language": "python",
   "name": "python3"
  },
  "language_info": {
   "codemirror_mode": {
    "name": "ipython",
    "version": 3
   },
   "file_extension": ".py",
   "mimetype": "text/x-python",
   "name": "python",
   "nbconvert_exporter": "python",
   "pygments_lexer": "ipython3",
   "version": "3.10.10"
  }
 },
 "nbformat": 4,
 "nbformat_minor": 5
}
